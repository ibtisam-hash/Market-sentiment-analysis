{
 "cells": [
  {
   "cell_type": "code",
   "execution_count": 34,
   "metadata": {},
   "outputs": [
    {
     "ename": "TypeError",
     "evalue": "WebDriver.__init__() got an unexpected keyword argument 'executable_path'",
     "output_type": "error",
     "traceback": [
      "\u001b[1;31m---------------------------------------------------------------------------\u001b[0m",
      "\u001b[1;31mTypeError\u001b[0m                                 Traceback (most recent call last)",
      "Cell \u001b[1;32mIn[34], line 5\u001b[0m\n\u001b[0;32m      2\u001b[0m \u001b[39mfrom\u001b[39;00m \u001b[39mselenium\u001b[39;00m\u001b[39m.\u001b[39;00m\u001b[39mwebdriver\u001b[39;00m\u001b[39m.\u001b[39;00m\u001b[39mcommon\u001b[39;00m\u001b[39m.\u001b[39;00m\u001b[39mby\u001b[39;00m \u001b[39mimport\u001b[39;00m By\n\u001b[0;32m      4\u001b[0m \u001b[39m# Set up the web driver (provide the path to your web driver executable)\u001b[39;00m\n\u001b[1;32m----> 5\u001b[0m driver \u001b[39m=\u001b[39m webdriver\u001b[39m.\u001b[39;49mChrome(executable_path\u001b[39m=\u001b[39;49m\u001b[39m'\u001b[39;49m\u001b[39mpath/to/chromedriver\u001b[39;49m\u001b[39m'\u001b[39;49m)\n\u001b[0;32m      7\u001b[0m \u001b[39m# Base URL for Bloomberg's news\u001b[39;00m\n\u001b[0;32m      8\u001b[0m base_url \u001b[39m=\u001b[39m \u001b[39m'\u001b[39m\u001b[39mhttps://www.bloomberg.com/search?q=tesla&page=\u001b[39m\u001b[39m{}\u001b[39;00m\u001b[39m'\u001b[39m\n",
      "\u001b[1;31mTypeError\u001b[0m: WebDriver.__init__() got an unexpected keyword argument 'executable_path'"
     ]
    }
   ],
   "source": [
    "from selenium import webdriver\n",
    "from selenium.webdriver.common.by import By\n",
    "\n",
    "# Set up the web driver (provide the path to your web driver executable)\n",
    "driver = webdriver.Chrome(executable_path='path/to/chromedriver')\n",
    "\n",
    "# Base URL for Bloomberg's news\n",
    "base_url = 'https://www.bloomberg.com/search?q=tesla&page={}'\n",
    "\n",
    "# List to store articles\n",
    "articles = []\n",
    "\n",
    "# Loop through pages\n",
    "for page in range(1, 4):\n",
    "    url = base_url.format(page)\n",
    "    \n",
    "    driver.get(url)\n",
    "    \n",
    "    # Find articles (based on Bloomberg's structure as an example)\n",
    "    article_elements = driver.find_elements(By.CLASS_NAME, 'search-result-story')\n",
    "    \n",
    "    for article in article_elements:\n",
    "        title = article.find_element(By.CLASS_NAME, 'search-result-story__headline').text.strip()\n",
    "        link = article.find_element(By.TAG_NAME, 'a').get_attribute('href')\n",
    "        date = article.find_element(By.CLASS_NAME, 'metadata-timestamp').text.strip()\n",
    "        articles.append((date, title, link))\n",
    "        print(\"Date:\", date)\n",
    "        print(\"Title:\", title)\n",
    "        print(\"Link:\", link)\n",
    "\n",
    "# Close the web driver\n",
    "driver.quit()\n"
   ]
  },
  {
   "cell_type": "code",
   "execution_count": 32,
   "metadata": {},
   "outputs": [],
   "source": [
    "import pandas as pd\n",
    "\n",
    "df = pd.DataFrame(articles, columns=['Title', 'Link', 'Date'])\n",
    "df.to_csv('bloomberg_articles_cnn.csv', index=False)\n"
   ]
  },
  {
   "cell_type": "code",
   "execution_count": 19,
   "metadata": {},
   "outputs": [],
   "source": [
    "import yfinance as yf\n",
    "\n",
    "tesla_stock = yf.Ticker(\"TSLA\")\n",
    "stock_data = tesla_stock.history(period=\"1d\", start=\"2018-07-16\", end=\"2023-08-16\")\n",
    "stock_data.to_csv(\"tesla_stock_data.csv\")\n"
   ]
  }
 ],
 "metadata": {
  "kernelspec": {
   "display_name": "Python 3",
   "language": "python",
   "name": "python3"
  },
  "language_info": {
   "codemirror_mode": {
    "name": "ipython",
    "version": 3
   },
   "file_extension": ".py",
   "mimetype": "text/x-python",
   "name": "python",
   "nbconvert_exporter": "python",
   "pygments_lexer": "ipython3",
   "version": "3.11.1"
  },
  "orig_nbformat": 4,
  "vscode": {
   "interpreter": {
    "hash": "78438ef87a6efcaae0869f7483048dd950be1d69c16aef041f6d6f71ca43a470"
   }
  }
 },
 "nbformat": 4,
 "nbformat_minor": 2
}
